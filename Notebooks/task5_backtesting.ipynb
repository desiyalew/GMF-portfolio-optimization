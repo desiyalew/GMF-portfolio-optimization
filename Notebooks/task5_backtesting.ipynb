{
 "cells": [
  {
   "cell_type": "code",
   "execution_count": null,
   "id": "7d710db5",
   "metadata": {},
   "outputs": [],
   "source": [
    "backtest_start = '2024-08-01'\n",
    "backtest_end = '2025-07-31'\n",
    "\n",
    "# Subset returns\n",
    "returns_bt = returns.loc[backtest_start:backtest_end]"
   ]
  },
  {
   "cell_type": "code",
   "execution_count": null,
   "id": "2f81fa56",
   "metadata": {},
   "outputs": [],
   "source": [
    "def simulate_portfolio(returns, weights, rebalance_freq='M'):\n",
    "    # Resample dates for rebalancing\n",
    "    dates = returns.resample(rebalance_freq).first().index\n",
    "    portfolio_return = []\n",
    "\n",
    "    weights = np.array(list(weights.values()))\n",
    "    prev_weights = weights.copy()\n",
    "\n",
    "    for i in range(len(returns)):\n",
    "        date = returns.index[i]\n",
    "        row_returns = returns.iloc[i].values\n",
    "        \n",
    "        # Portfolio return\n",
    "        port_ret = np.sum(prev_weights * row_returns)\n",
    "        portfolio_return.append(port_ret)\n",
    "\n",
    "        # Rebalance at month end\n",
    "        if date in dates:\n",
    "            total_growth = np.sum(prev_weights * (1 + row_returns))\n",
    "            new_weights = (prev_weights * (1 + row_returns)) / total_growth\n",
    "            prev_weights = weights  # Reset to target weights\n",
    "\n",
    "    return np.array(portfolio_return)\n",
    "\n",
    "# Our Strategy (Max Sharpe Weights)\n",
    "strategy_weights = {'TSLA': 0.32, 'BND': 0.48, 'SPY': 0.20}\n",
    "strat_returns = simulate_portfolio(returns_bt, strategy_weights)\n",
    "\n",
    "# Benchmark: 60% SPY / 40% BND\n",
    "benchmark_weights = {'TSLA': 0.0, 'BND': 0.40, 'SPY': 0.60}\n",
    "bench_returns = simulate_portfolio(returns_bt, benchmark_weights)"
   ]
  },
  {
   "cell_type": "code",
   "execution_count": null,
   "id": "7c355e0e",
   "metadata": {},
   "outputs": [],
   "source": [
    "import pandas as pd\n",
    "\n",
    "cum_strat = (1 + pd.Series(strat_returns)).cumprod()\n",
    "cum_bench = (1 + pd.Series(bench_returns)).cumprod()\n",
    "\n",
    "plt.figure(figsize=(14, 7))\n",
    "plt.plot(cum_strat.index, cum_strat * 10000, label='Optimized Portfolio (Max Sharpe)', linewidth=2)\n",
    "plt.plot(cum_bench.index, cum_bench * 10000, label='60/40 SPY-BND Benchmark', linestyle='--', linewidth=2)\n",
    "\n",
    "plt.title('Backtest: Optimized Portfolio vs 60/40 Benchmark (Aug 2024 – Jul 2025)')\n",
    "plt.xlabel('Date')\n",
    "plt.ylabel('Portfolio Value ($)')\n",
    "plt.legend()\n",
    "plt.grid(True, alpha=0.3)\n",
    "plt.tight_layout()\n",
    "plt.show()"
   ]
  },
  {
   "cell_type": "code",
   "execution_count": null,
   "id": "7e03d856",
   "metadata": {},
   "outputs": [],
   "source": [
    "def performance_metrics(returns, name):\n",
    "    total_return = (np.prod(1 + returns) - 1) * 100\n",
    "    ann_return = np.mean(returns) * 252 * 100\n",
    "    ann_vol = np.std(returns) * np.sqrt(252) * 100\n",
    "    sharpe = (np.mean(returns) * 252 - 0.03) / (np.std(returns) * np.sqrt(252))\n",
    "    print(f\"{name}\")\n",
    "    print(f\"  Total Return: {total_return:.2f}%\")\n",
    "    print(f\"  Annualized Return: {ann_return:.2f}%\")\n",
    "    print(f\"  Annualized Volatility: {ann_vol:.2f}%\")\n",
    "    print(f\"  Sharpe Ratio (rf=3%): {sharpe:.3f}\")\n",
    "    print(\"  ---\")\n",
    "    return {\n",
    "        'Total Return (%)': total_return,\n",
    "        'Annual Return (%)': ann_return,\n",
    "        'Volatility (%)': ann_vol,\n",
    "        'Sharpe Ratio': sharpe\n",
    "    }\n",
    "\n",
    "metrics = []\n",
    "metrics.append(performance_metrics(strat_returns, \"Optimized Portfolio\"))\n",
    "metrics.append(performance_metrics(bench_returns, \"60/40 Benchmark\"))"
   ]
  },
  {
   "cell_type": "code",
   "execution_count": null,
   "id": "028daced",
   "metadata": {},
   "outputs": [],
   "source": []
  }
 ],
 "metadata": {
  "kernelspec": {
   "display_name": "Python 3",
   "language": "python",
   "name": "python3"
  },
  "language_info": {
   "name": "python",
   "version": "3.13.3"
  }
 },
 "nbformat": 4,
 "nbformat_minor": 5
}
