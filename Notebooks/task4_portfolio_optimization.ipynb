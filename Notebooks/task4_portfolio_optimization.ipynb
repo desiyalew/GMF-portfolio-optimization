{
 "cells": [
  {
   "cell_type": "code",
   "execution_count": null,
   "id": "435bab0f",
   "metadata": {},
   "outputs": [],
   "source": [
    "from pypfopt.efficient_frontier import EfficientFrontier\n",
    "from pypfopt import risk_models, expected_returns\n",
    "\n",
    "# Inputs\n",
    "mu = expected_returns.return_model(prices, method='historical')  # Override TSLA manually\n",
    "mu['TSLA'] = 0.21  # Our active view\n",
    "S = risk_models.CovarianceShrinkage(prices).annualized_covariance  # Robust covariance\n",
    "\n",
    "# Optimize\n",
    "ef = EfficientFrontier(mu, S)\n",
    "\n",
    "# Maximum Sharpe Ratio Portfolio (Tangency Portfolio)\n",
    "sharpe_portfolio = ef.deepcopy()\n",
    "weights_max_sharpe = sharpe_portfolio.max_sharpe(risk_free_rate=0.03)\n",
    "ret_max_sharpe, vol_max_sharpe, _ = sharpe_portfolio.portfolio_performance(risk_free_rate=0.03)\n",
    "\n",
    "# Minimum Volatility Portfolio\n",
    "ef_min = EfficientFrontier(None, S)  # Don't use returns for min vol\n",
    "weights_min_vol = ef_min.min_volatility()\n",
    "ret_min_vol, vol_min_vol, _ = ef_min.portfolio_performance(risk_free_rate=0.03)"
   ]
  },
  {
   "cell_type": "code",
   "execution_count": null,
   "id": "de2b0b54",
   "metadata": {},
   "outputs": [],
   "source": [
    "import matplotlib.pyplot as plt\n",
    "\n",
    "fig, ax = plt.subplots(figsize=(12, 8))\n",
    "ef.plot_efficient_frontier(ax=ax, show_assets=False)\n",
    "\n",
    "# Plot max Sharpe ratio\n",
    "ax.scatter(vol_max_sharpe, ret_max_sharpe, marker='*', s=300, c='r', label='Max Sharpe Ratio')\n",
    "\n",
    "# Plot min volatility\n",
    "ax.scatter(vol_min_vol, ret_min_vol, marker='*', s=300, c='g', label='Min Volatility')\n",
    "\n",
    "# Plot individual assets\n",
    "for i, (label, color) in enumerate(zip(['TSLA', 'BND', 'SPY'], ['orange', 'blue', 'purple'])):\n",
    "    ax.scatter(\n",
    "        np.sqrt(S.loc[label, label]),\n",
    "        mu[label],\n",
    "        marker='o',\n",
    "        s=100,\n",
    "        c=color,\n",
    "        label=label\n",
    "    )\n",
    "\n",
    "ax.set_title('Efficient Frontier with Optimal Portfolios')\n",
    "ax.legend()\n",
    "ax.grid(True)\n",
    "plt.tight_layout()\n",
    "plt.show()"
   ]
  },
  {
   "cell_type": "code",
   "execution_count": null,
   "id": "f86f8a66",
   "metadata": {},
   "outputs": [],
   "source": []
  }
 ],
 "metadata": {
  "kernelspec": {
   "display_name": "Python 3",
   "language": "python",
   "name": "python3"
  },
  "language_info": {
   "name": "python",
   "version": "3.13.3"
  }
 },
 "nbformat": 4,
 "nbformat_minor": 5
}
